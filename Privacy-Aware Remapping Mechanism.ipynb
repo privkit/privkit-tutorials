{
 "cells": [
  {
   "cell_type": "markdown",
   "id": "199c8fc9be272af6",
   "metadata": {
    "collapsed": false,
    "pycharm": {
     "name": "#%% md\n"
    }
   },
   "source": [
    "\n",
    "# Privacy-Aware Remapping Mechanism Demo\n",
    "\n",
    "\n",
    "This notebook provides a tour of how to replicate results obtained with the Privacy-Aware Remapping Mechanism in the Privkit Framework, including how to:\n",
    "- load data\n",
    "- apply the Planar Laplace mechanism\n",
    "- apply Uniform Grid discretization\n",
    "- apply the Privacy-Aware Remapping Mechanism\n",
    "- obtain the quality loss\n",
    "- obtain the number of utilized cells\n",
    "- apply the Top-N Re-Identification Attack\n"
   ]
  },
  {
   "cell_type": "markdown",
   "id": "95cd36f4",
   "metadata": {},
   "source": [
    "## Abstract\n",
    "\n",
    "In an era dominated by Location-Based Services (LBSs), the concern of preserving location privacy has emerged as a critical challenge. To address this, Location Privacy-Preserving Mechanisms (LPPMs) were proposed, in where an obfuscated version of the exact user location is reported instead. Adding to noise-based mechanisms, location discretization, the process of transforming continuous location data into discrete representations, is relevant for the efficient storage of data, simplifying the process of manipulating the information in a digital system and reducing the computational overhead. Apart from enabling a more efficient data storage and processing, location discretization can also be performed with privacy requirements, so as to ensure discretization while providing privacy benefits. In this work, we propose a Privacy-Aware Remapping mechanism that is able to improve the privacy level attained by Geo-Indistinguishability through a tailored pre-processing discretization step. The proposed remapping technique is capable of reducing the re-identification risk of locations under Geo-Indistinguishability, with limited impact on quality loss."
   ]
  },
  {
   "cell_type": "markdown",
   "id": "e0444e46",
   "metadata": {},
   "source": [
    "## Citation\n",
    "\n",
    "Please consider to cite our publication in your scientific work:"
   ]
  },
  {
   "cell_type": "code",
   "execution_count": null,
   "id": "9f2410a4",
   "metadata": {
    "vscode": {
     "languageId": "bibtex"
    }
   },
   "outputs": [],
   "source": [
    "@inproceedings{10.1145/3605098.3636050,\n",
    "    author = {Duarte, Guilherme and Cunha, Mariana and Vilela, Jo\\~{a}o},\n",
    "    title = {A Privacy-Aware Remapping Mechanism for Location Data},\n",
    "    year = {2024},\n",
    "    isbn = {9798400702433},\n",
    "    publisher = {Association for Computing Machinery},\n",
    "    address = {New York, NY, USA},\n",
    "    url = {https://doi.org/10.1145/3605098.3636050},\n",
    "    doi = {10.1145/3605098.3636050},\n",
    "    booktitle = {Proceedings of the 39th ACM/SIGAPP Symposium on Applied Computing},\n",
    "    pages = {1433–1440},\n",
    "    numpages = {8},\n",
    "    location = {<conf-loc>, <city>Avila</city>, <country>Spain</country>, </conf-loc>},\n",
    "    series = {SAC '24}\n",
    "}"
   ]
  },
  {
   "cell_type": "markdown",
   "id": "f6392e8c",
   "metadata": {},
   "source": [
    "----------------------"
   ]
  },
  {
   "cell_type": "markdown",
   "id": "c3f870a7",
   "metadata": {},
   "source": [
    "## Import Privkit"
   ]
  },
  {
   "cell_type": "code",
   "execution_count": null,
   "id": "5ac41032fa8f8f6d",
   "metadata": {
    "collapsed": false,
    "pycharm": {
     "name": "#%%\n"
    }
   },
   "outputs": [],
   "source": [
    "import privkit as pk\n",
    "pk.__version__\n",
    "\n",
    "# Supress pandas warnings\n",
    "import warnings\n",
    "from pandas.core.common import SettingWithCopyWarning\n",
    "warnings.simplefilter(action=\"ignore\", category=SettingWithCopyWarning)"
   ]
  },
  {
   "cell_type": "markdown",
   "id": "48a6d5e124570af8",
   "metadata": {
    "collapsed": false,
    "pycharm": {
     "name": "#%% md\n"
    }
   },
   "source": [
    "## Loading Data\n",
    "\n",
    "The dataset used for testing the mechanism was [Geolife](https://www.microsoft.com/en-us/research/publication/geolife-gps-trajectory-dataset-user-guide/) which contains reports from Beijing, China."
   ]
  },
  {
   "cell_type": "code",
   "execution_count": null,
   "id": "fd057bb62f41f012",
   "metadata": {
    "collapsed": false,
    "pycharm": {
     "name": "#%%\n"
    }
   },
   "outputs": [],
   "source": [
    "dataset = pk.GeolifeDataset()\n",
    "dataset.load_dataset()\n",
    "\n",
    "dataset = dataset.data"
   ]
  },
  {
   "cell_type": "markdown",
   "id": "682b21dfcb291ca8",
   "metadata": {
    "collapsed": false,
    "pycharm": {
     "name": "#%% md\n"
    }
   },
   "source": [
    "## Uniform Grid Discretization\n",
    "During testing, we limited the distribution of reports to a bounding box over 5<sup>th</sup> ring road, defined by the following parameters.\n",
    "Additionally, for grid discretization, we set as constant spacing of the cell's grid the value of 100 meters."
   ]
  },
  {
   "cell_type": "code",
   "execution_count": null,
   "id": "aa70d7db4ef81ff2",
   "metadata": {
    "collapsed": false,
    "pycharm": {
     "name": "#%%\n"
    }
   },
   "outputs": [],
   "source": [
    "from privkit.utils import constants\n",
    "\n",
    "# Parameters\n",
    "min_lat = 39.753389\n",
    "max_lat = 40.02577\n",
    "min_lon = 116.198582\n",
    "max_lon = 116.547398\n",
    "spacing = 250\n",
    "\n",
    "# Create Grid\n",
    "dataset.create_grid(min_lat, max_lat, min_lon, max_lon, spacing)\n",
    "# Filter outside points\n",
    "dataset.filter_outside_points(min_lat, max_lat, min_lon, max_lon)"
   ]
  },
  {
   "cell_type": "markdown",
   "id": "4e3f007c30c45b77",
   "metadata": {
    "collapsed": false,
    "pycharm": {
     "name": "#%% md\n"
    }
   },
   "source": [
    "Once created the grid, we can discretize the dataset by replacing the original reports with the center of cell which where they belong. To achieve this, we rely on the UniformRemapping mechanism."
   ]
  },
  {
   "cell_type": "code",
   "execution_count": null,
   "id": "3182e77bf07cc24d",
   "metadata": {
    "collapsed": false,
    "pycharm": {
     "name": "#%%\n"
    }
   },
   "outputs": [],
   "source": [
    "from privkit.ppms import UniformRemapping\n",
    "\n",
    "uniform_remapping = UniformRemapping(dataset.grid)\n",
    "uniform_remapping.execute(dataset, data_processing=True)\n",
    "\n",
    "discrete_ground_truth_data = dataset.data[[constants.LATITUDE, constants.LONGITUDE]]"
   ]
  },
  {
   "cell_type": "markdown",
   "id": "2f72def27b56818a",
   "metadata": {
    "collapsed": false,
    "pycharm": {
     "name": "#%% md\n"
    }
   },
   "source": [
    "## Applying the Planar Laplace Mechanism PPM\n",
    "As a pre-processing step, apply Planar Laplace (PL) with a privacy parameter $\\varepsilon$ to the dataset. During testing, we used multiple values in the typical ranges of privacy-preserving mechanisms for continuous reports, specifically $\\varepsilon$ = [4, 8, 16, 32] km<sup>-1</sup>. The following code generates a dictionary which maps the privacy parameters to the obfuscated data resulted from the respective $\\varepsilon$. This way we only one instance of the dataset loaded."
   ]
  },
  {
   "cell_type": "code",
   "execution_count": null,
   "id": "18de33c4850733e3",
   "metadata": {
    "collapsed": false,
    "pycharm": {
     "name": "#%%\n"
    }
   },
   "outputs": [],
   "source": [
    "epsilons = [0.004, 0.008, 0.016, 0.032]\n",
    "\n",
    "planar_laplace_data = {}\n",
    "for epsilon in epsilons:\n",
    "    planar_laplace = pk.PlanarLaplace(epsilon=epsilon)\n",
    "    planar_laplace.execute(dataset)\n",
    "    planar_laplace_data[epsilon] = dataset.data[[constants.OBF_LATITUDE, constants.OBF_LONGITUDE]]\n",
    "    print(f'{epsilon} done')"
   ]
  },
  {
   "cell_type": "markdown",
   "id": "bb8cbc021c45212e",
   "metadata": {
    "collapsed": false,
    "pycharm": {
     "name": "#%% md\n"
    }
   },
   "source": [
    "Similarly to before, let us discretize the obfuscated data into the grid, which corresponds to the Uniform Remapping:"
   ]
  },
  {
   "cell_type": "code",
   "execution_count": null,
   "id": "a1a1961acbea4496",
   "metadata": {
    "collapsed": false,
    "pycharm": {
     "name": "#%%\n"
    }
   },
   "outputs": [],
   "source": [
    "uniform_remapping_data = {}\n",
    "for epsilon in epsilons:\n",
    "    dataset.data[[constants.OBF_LATITUDE, constants.OBF_LONGITUDE]] = planar_laplace_data[epsilon]\n",
    "    \n",
    "    uniform_remapping = UniformRemapping(dataset.grid)\n",
    "    uniform_remapping.execute(dataset, combined_ppm=True)\n",
    "\n",
    "    uniform_remapping_data[epsilon] = dataset.data[[constants.OBF_LATITUDE, constants.OBF_LONGITUDE]]"
   ]
  },
  {
   "cell_type": "markdown",
   "id": "884611bf30dee0fb",
   "metadata": {
    "collapsed": false,
    "pycharm": {
     "name": "#%% md\n"
    }
   },
   "source": [
    "## Applying the Privacy-Aware Remapping Mechanism\n",
    "After applying the Planar Laplace PPM, we are ready to use Privacy-Aware Remapping. To configure this mechanism, one has to set the epsilon parameter and, optionally, the obfuscation radius parameter $r$, a bound on the Laplacian noise added, and the search space (the default is a 'circle' with radius r). By default, the Privacy-Aware Remapping consider $r=C_\\varepsilon^{-1}(\\rho) + s/\\sqrt{2}$, where $\\rho$ is an optional parameter (default $\\rho=0.95$) and the cumulative densitity function $C_\\varepsilon(r)$ represents the probability that the radius of the random generated point falls between 0 and $r$. Therefore, using the Lambert 𝑊 function at branch -1, the inverse function is defined as:\n",
    "\n",
    "$$ C_\\varepsilon^{-1}(\\rho) = - \\frac{1}{\\varepsilon}(𝑊_{-1}(\\frac{\\rho+1}{e})+1)$$\n",
    "\n",
    "Once again, we generate a dictionary which maps the privacy parameter to the obfuscation data resulted from the Privacy-Aware Remapping Mechanism with $\\varepsilon$."
   ]
  },
  {
   "cell_type": "code",
   "execution_count": null,
   "id": "cde6f30baf232450",
   "metadata": {
    "collapsed": false,
    "pycharm": {
     "name": "#%%\n"
    }
   },
   "outputs": [],
   "source": [
    "import numpy as np\n",
    "\n",
    "privacy_aware_remapping_data = {}\n",
    "for epsilon in epsilons:\n",
    "    dataset.data[[constants.OBF_LATITUDE, constants.OBF_LONGITUDE]] = uniform_remapping_data[epsilon]\n",
    "    \n",
    "    # Apply the mechanism\n",
    "    privacy_aware_remapping = pk.PrivacyAwareRemapping(epsilon=epsilon, search_space='circle')\n",
    "    privacy_aware_remapping.execute(dataset)\n",
    "    \n",
    "    privacy_aware_remapping_data[epsilon] = dataset.data[[constants.OBF_LATITUDE, constants.OBF_LONGITUDE]]\n",
    "    print(f'{epsilon} done')"
   ]
  },
  {
   "cell_type": "markdown",
   "id": "3382d9f76a7619a1",
   "metadata": {
    "collapsed": false,
    "pycharm": {
     "name": "#%% md\n"
    }
   },
   "source": [
    "## Obtaining the Quality Loss\n",
    "After applying the Privacy-Aware Remapping Mechanism, we can use the quality loss metric to measure how much utility was lost after using this technique, by calculating the Euclidean distance between every ground-truth report and its respective obfuscated report. For this test, we will compute the quality loss added by the Planar Laplace without Remapping, by the Planar Laplace with Remapping (Uniform Remapping) and by the Privacy-Aware Remapping Mechanism, storing the data on dictionaries that map $\\varepsilon$ values to the list of point-by-point distances."
   ]
  },
  {
   "cell_type": "code",
   "execution_count": null,
   "id": "8404e19fa4c1fab",
   "metadata": {
    "collapsed": false,
    "pycharm": {
     "name": "#%%\n"
    }
   },
   "outputs": [],
   "source": [
    "planar_laplace_non_remapped_quality_loss = {}\n",
    "uniform_remapping_quality_loss = {}\n",
    "privacy_aware_remapping_quality_loss = {}\n",
    "\n",
    "quality_loss = pk.QualityLoss()\n",
    "for epsilon in epsilons:\n",
    "    # Planar Laplace Non Remapped\n",
    "    dataset.data[[constants.OBF_LATITUDE, constants.OBF_LONGITUDE]] = planar_laplace_data[epsilon]\n",
    "    quality_loss.execute(dataset)\n",
    "    planar_laplace_non_remapped_quality_loss[epsilon] = dataset.data[[quality_loss.METRIC_ID]]\n",
    "\n",
    "    # Uniform Remapping\n",
    "    dataset.data[[constants.OBF_LATITUDE, constants.OBF_LONGITUDE]] = uniform_remapping_data[epsilon]\n",
    "    quality_loss.execute(dataset)\n",
    "    uniform_remapping_quality_loss[epsilon] = dataset.data[[quality_loss.METRIC_ID]]\n",
    "\n",
    "    # Privacy-Aware Remapping\n",
    "    dataset.data[[constants.OBF_LATITUDE, constants.OBF_LONGITUDE]] = privacy_aware_remapping_data[epsilon]\n",
    "    quality_loss.execute(dataset)\n",
    "    privacy_aware_remapping_quality_loss[epsilon] = dataset.data[[quality_loss.METRIC_ID]]\n",
    "    \n",
    "    print(f'{epsilon} done')"
   ]
  },
  {
   "cell_type": "markdown",
   "id": "5bad192ce5fe49f8",
   "metadata": {
    "collapsed": false,
    "pycharm": {
     "name": "#%% md\n"
    }
   },
   "source": [
    "Using the following program, one can visualize the amount of quality loss each mechanism is subject to."
   ]
  },
  {
   "cell_type": "code",
   "execution_count": null,
   "id": "764d954d1376f3db",
   "metadata": {
    "collapsed": false,
    "pycharm": {
     "name": "#%%\n"
    }
   },
   "outputs": [],
   "source": [
    "import matplotlib.pyplot as plt\n",
    "import matplotlib.patches as mpatches\n",
    "\n",
    "colors = ['r', 'g', 'b']\n",
    "plt.subplots(1, len(epsilons), sharey=True, figsize=(6, 6))\n",
    "\n",
    "for index, epsilon in enumerate(epsilons):\n",
    "    plt.subplot(1, 4, index + 1)\n",
    "\n",
    "    # Gather Data\n",
    "    pl_ql_epsilon = planar_laplace_non_remapped_quality_loss[epsilon] \n",
    "    ur_ql_epsilon = uniform_remapping_quality_loss[epsilon]\n",
    "    par_ql_epsilon = privacy_aware_remapping_quality_loss[epsilon]\n",
    "\n",
    "    # Plot the Data\n",
    "    pl_plot = plt.boxplot(pl_ql_epsilon, positions=[-0.3], widths=0.20, notch=True, patch_artist=True, showfliers=False)\n",
    "    ur_plot = plt.boxplot(ur_ql_epsilon, positions=[0], widths=0.20, notch=True, patch_artist=True, showfliers=False)\n",
    "    par_plot = plt.boxplot(par_ql_epsilon, positions=[0.3], widths=0.20, notch=True, patch_artist=True, showfliers=False)\n",
    "\n",
    "    # Add Colors\n",
    "    for plot, color in zip([pl_plot, ur_plot, par_plot], colors):\n",
    "        for patch in plot['boxes']:\n",
    "            patch.set_facecolor(color)\n",
    "\n",
    "    # Settings\n",
    "    plt.xticks(np.arange(0, 2, 2), [r'$\\varepsilon={}$'.format(int(epsilon*1000))])\n",
    "    plt.yticks(np.arange(0, 1300, 100))\n",
    "    plt.axis(xmin=-2, xmax=2)\n",
    "    plt.xlim([-0.6, 0.6])\n",
    "    plt.ylim([0, 1200])\n",
    "    plt.grid(True)\n",
    "\n",
    "# Label\n",
    "plt.subplot(1, 4, 1)\n",
    "plt.ylabel('Quality Loss (m)')\n",
    "\n",
    "# Legend\n",
    "plt.subplot(1, 4, 4)\n",
    "handles = []\n",
    "for color, grid in zip(colors, ['Planar Laplace Non-Remapped', 'Uniform Remapping', 'Privacy-Aware Remapping']): \n",
    "    handles.append(mpatches.Patch(color=color, label=grid))\n",
    "plt.legend(handles=handles, loc='upper right')\n",
    "\n",
    "# Stick the four plots together\n",
    "plt.subplots_adjust(wspace=.0)\n",
    "\n",
    "# Show\n",
    "plt.show()"
   ]
  },
  {
   "cell_type": "markdown",
   "id": "9c9f410309cdde4e",
   "metadata": {
    "collapsed": false,
    "pycharm": {
     "name": "#%% md\n"
    }
   },
   "source": [
    "## Obtain the Number of Utilized Cells\n",
    "In addition to the quality loss, we also analyzed the effect on the number of utilized cells after using grid discretization on the ground-truth data, on the Planar Laplace obfuscated locations as well as using the Privacy-Aware Remapping mechanism."
   ]
  },
  {
   "cell_type": "code",
   "execution_count": null,
   "id": "e1a9c2aa68ac97f1",
   "metadata": {
    "collapsed": false,
    "pycharm": {
     "name": "#%%\n"
    }
   },
   "outputs": [],
   "source": [
    "def utilized_cells(data, lat, lon):\n",
    "    return len(set(zip(data[lat], data[lon])))\n",
    "\n",
    "discrete_ground_truth_utilized_cells = utilized_cells(discrete_ground_truth_data, constants.LATITUDE, constants.LONGITUDE)\n",
    "print(f'Ground Truth: {discrete_ground_truth_utilized_cells}')\n",
    "for epsilon in epsilons:\n",
    "    uniform_remapping_utilized_cells = utilized_cells(uniform_remapping_data[epsilon], constants.OBF_LATITUDE, constants.OBF_LONGITUDE)\n",
    "    privacy_aware_remapping_utilized_cells = utilized_cells(privacy_aware_remapping_data[epsilon], constants.OBF_LATITUDE, constants.OBF_LONGITUDE)\n",
    "    \n",
    "    print(f'epsilon: {epsilon}')\n",
    "    print(f'   Uniform Remapping: {uniform_remapping_utilized_cells}')\n",
    "    print(f'   Privacy-Aware Remapping: {privacy_aware_remapping_utilized_cells}')"
   ]
  },
  {
   "cell_type": "markdown",
   "id": "316f9fcf24b18d0b",
   "metadata": {
    "collapsed": false,
    "pycharm": {
     "name": "#%% md\n"
    }
   },
   "source": [
    "## Apply the Top-N Re-Identification Attack"
   ]
  },
  {
   "cell_type": "markdown",
   "id": "f7bd23c1e836bf2c",
   "metadata": {
    "collapsed": false,
    "pycharm": {
     "name": "#%% md\n"
    }
   },
   "source": [
    "Finally, we can test how the mechanisms behave against the Top-N Re-Identification Attack. For each instance of the attack, one must feed the paramenter $N$, the number of top-locations to considered. During testing, we analyzed top-1, top-2 and top-3 locations."
   ]
  },
  {
   "cell_type": "code",
   "execution_count": null,
   "id": "12614cec8ceaab02",
   "metadata": {
    "collapsed": false,
    "pycharm": {
     "name": "#%%\n"
    }
   },
   "outputs": [],
   "source": [
    "Ns = [1,2,3]\n",
    "ground_truth_remapped_topn_data = {}\n",
    "uniform_remapping_topn_data = {}\n",
    "privacy_aware_remapping_topn_data = {}\n",
    "\n",
    "# Ground Truth Remapped\n",
    "print('Ground Truth Remapped')\n",
    "for N in Ns:\n",
    "    print(f'   - N = {N}')\n",
    "    dataset.data[[constants.LATITUDE, constants.LONGITUDE]] = discrete_ground_truth_data\n",
    "    topN = pk.TopN(N=N, over_ppm=False)\n",
    "    results = topN.execute(dataset)\n",
    "    ground_truth_remapped_topn_data[N] = results\n",
    "\n",
    "# PPMs\n",
    "print('PPMs')\n",
    "for epsilon in epsilons:\n",
    "    print(f'   - eps = {epsilon}')\n",
    "    uniform_remapping_topn_data[epsilon] = {}\n",
    "    privacy_aware_remapping_topn_data[epsilon] = {}\n",
    "    \n",
    "    for N in Ns:\n",
    "        print(f'      - N = {N}')\n",
    "        # Uniform Remapping\n",
    "        dataset.data[[constants.OBF_LATITUDE, constants.OBF_LONGITUDE]] = uniform_remapping_data[epsilon]\n",
    "        topN = pk.TopN(N=N, over_ppm=True)\n",
    "        results = topN.execute(dataset)\n",
    "        uniform_remapping_topn_data[epsilon][N] = results\n",
    "        \n",
    "        # Privacy-Aware Remapping\n",
    "        dataset.data[[constants.OBF_LATITUDE, constants.OBF_LONGITUDE]] = privacy_aware_remapping_data[epsilon]\n",
    "        topN = pk.TopN(N=N, over_ppm=True)\n",
    "        results = topN.execute(dataset)\n",
    "        privacy_aware_remapping_topn_data[epsilon][N] = results"
   ]
  },
  {
   "cell_type": "markdown",
   "id": "2aecd0fd10cd434a",
   "metadata": {
    "collapsed": false,
    "pycharm": {
     "name": "#%% md\n"
    }
   },
   "source": [
    "To visualize the obtained results, the following code generates a plotbar comparing the percentage of users from the dataset considered re-identifiable."
   ]
  },
  {
   "cell_type": "code",
   "execution_count": null,
   "id": "9e9cd9189b373bc7",
   "metadata": {
    "collapsed": false,
    "pycharm": {
     "name": "#%%\n"
    }
   },
   "outputs": [],
   "source": [
    "fig, axes = plt.subplots(1, len(epsilons), sharey=True, figsize=(13, 6))\n",
    "barWidth = 0.25\n",
    "nr_users = len(dataset.data[constants.UID].unique())\n",
    "\n",
    "for index, epsilon in enumerate(epsilons):\n",
    "    plt.subplot(1, 4, index + 1)\n",
    "    ax = axes[index]\n",
    "\n",
    "    # Gather data\n",
    "    gt_data = []\n",
    "    ur_data = []\n",
    "    par_data = []\n",
    "\n",
    "    for N in Ns:\n",
    "        gt_topn = ground_truth_remapped_topn_data[N]\n",
    "        ur_topn = uniform_remapping_topn_data[epsilon][N]\n",
    "        par_topn = privacy_aware_remapping_topn_data[epsilon][N]\n",
    "\n",
    "        # Calculate ratio of re-identification\n",
    "        gt_reident = (sum(gt_topn.values()) / nr_users) * 100\n",
    "        ur_reident = (sum(ur_topn.values()) / nr_users) * 100\n",
    "        par_reident = (sum(par_topn.values()) / nr_users) * 100\n",
    "\n",
    "        gt_data.append(gt_reident)\n",
    "        ur_data.append(ur_reident)\n",
    "        par_data.append(par_reident)\n",
    "\n",
    "    # Bar locations\n",
    "    br1 = np.arange(len(Ns))\n",
    "    br2 = [x + barWidth for x in br1]\n",
    "    br3 = [x + barWidth for x in br2]\n",
    "\n",
    "    # Create bars\n",
    "    for br, data, color, label in zip([br1, br2, br3], [gt_data, ur_data, par_data], colors, ['Ground-Truth Remapped', 'Uniform Remapping', 'Privacy-Aware Remapping']):\n",
    "        ax.bar(br, data, color=color, width=barWidth, edgecolor='grey', label=label)\n",
    "    \n",
    "    # Set scenario label\n",
    "    ax.set_xlabel(r'$\\epsilon={}$'.format(int(epsilon*1000)), fontsize=12)\n",
    "\n",
    "    # Subplot Settings\n",
    "    ax.set_xlim([-3*barWidth/2, br3[-1] + 3*barWidth/2])\n",
    "    ax.set_ylim([-1, 100])\n",
    "    ax.set_xticks([r + barWidth for r in br1], [f'N={N}' for N in Ns])\n",
    "    ax.set_axisbelow(True)\n",
    "    ax.grid(which='both')\n",
    "\n",
    "# Settings\n",
    "plt.subplot(1, 4, 1)\n",
    "plt.yticks(np.arange(0, 101, 5))\n",
    "plt.ylabel('Users re-identified (%)')\n",
    "\n",
    "# Legend\n",
    "ax = axes[1]\n",
    "ax.legend(bbox_to_anchor=(1, -0.14), loc='center', ncol=3)\n",
    "\n",
    "# Stick the four plots together\n",
    "plt.subplots_adjust(wspace=.0)\n",
    "\n",
    "# Show\n",
    "plt.show()"
   ]
  }
 ],
 "metadata": {
  "kernelspec": {
   "display_name": "Python 3 (ipykernel)",
   "language": "python",
   "name": "python3"
  },
  "language_info": {
   "codemirror_mode": {
    "name": "ipython",
    "version": 3
   },
   "file_extension": ".py",
   "mimetype": "text/x-python",
   "name": "python",
   "nbconvert_exporter": "python",
   "pygments_lexer": "ipython3",
   "version": "3.9.16"
  }
 },
 "nbformat": 4,
 "nbformat_minor": 5
}
