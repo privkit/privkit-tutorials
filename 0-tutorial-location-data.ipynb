{
 "cells": [
  {
   "cell_type": "markdown",
   "id": "ab2a998a",
   "metadata": {
    "pycharm": {
     "name": "#%% md\n"
    }
   },
   "source": [
    "\n",
    "# Privkit Tutorial\n",
    "\n",
    "\n",
    "This notebook provides a tour of some of Privkit's features related to location data including how to:\n",
    "- load datasets\n",
    "- get dataset statistics\n",
    "- apply privacy-preserving mechanisms\n",
    "- apply adversary attacks\n",
    "- perform ppm and attack analysis through suitable metrics\n",
    "- visualize the obtained results\n"
   ]
  },
  {
   "cell_type": "code",
   "execution_count": null,
   "id": "fa9af277cee48916",
   "metadata": {
    "collapsed": false,
    "pycharm": {
     "name": "#%%\n"
    }
   },
   "outputs": [],
   "source": [
    "import privkit as pk\n",
    "\n",
    "pk.__version__"
   ]
  },
  {
   "cell_type": "markdown",
   "id": "08e47eb3",
   "metadata": {
    "pycharm": {
     "name": "#%% md\n"
    }
   },
   "source": [
    "## Loading Data\n",
    "\n",
    "Privkit provides access to the following mobility datasets: \n",
    "- cabspotting - mobility traces of taxi cabs in San Francisco, USA\n",
    "- geolife - mobility data collected in Beijing, China\n",
    "\n",
    "In the current tutorial, we will load data from the GeolifeDataset as follows."
   ]
  },
  {
   "cell_type": "code",
   "execution_count": null,
   "id": "16ae69d1",
   "metadata": {
    "pycharm": {
     "name": "#%%\n"
    }
   },
   "outputs": [],
   "source": [
    "# contains multiple constant variables that result in a less verbose coding\n",
    "from privkit.utils import constants\n",
    "\n",
    "# loading geolife dataset\n",
    "dataset = pk.datasets.GeolifeDataset()\n",
    "dataset.load_dataset()\n",
    "location_data = dataset.data\n",
    "location_data.data = location_data.data[:100]  # To limit the number of records\n",
    "\n",
    "# prints data summary, specifying the number of users, trajectories, and other statistics\n",
    "location_data.print_data_summary()\n",
    "\n",
    "# prints statistics of data by user, specifying the number of trajectories, points, and other statistics per user\n",
    "location_data.print_statistics_by_user()"
   ]
  },
  {
   "cell_type": "markdown",
   "id": "1781745e",
   "metadata": {
    "pycharm": {
     "name": "#%% md\n"
    }
   },
   "source": [
    "## Applying a Privacy-Preserving Mechanism\n",
    "\n",
    "The following list contains some of the PPMs implemented as well as a quick explanation of each.\n",
    "- **Planar Laplace**: consists of adding 2-dimensional Laplacian noise centered at the exact user location. The Laplacian distribution depends on a privacy parameter epsilon defined as ε=l/r, which means that a privacy level l is guaranteed within a radius r.\n",
    "\n",
    "- **Adaptive Geo-Indistinguishability**: uses the Planar Laplace mechanism as baseline, but dynamically adapts the privacy parameter epsilon according to the correlation between the current and the past locations.\n",
    "\n",
    "- **Clustering Geo-Indistinguishability**: consists of creating obfuscation clusters to aggregate nearby locations into a single obfuscated location. This obfuscated location is produced by Planar Laplace.\n",
    "\n",
    "- **Velocity-Aware Geo-Indistinguishability**: uses the Planar Laplace mechanism as baseline, but dynamically adapts the privacy parameter epsilon according to the user velocities as well as the reporting speed."
   ]
  },
  {
   "cell_type": "code",
   "execution_count": null,
   "id": "f859ef50",
   "metadata": {
    "pycharm": {
     "name": "#%%\n"
    }
   },
   "outputs": [],
   "source": [
    "# initialize and apply Planar Laplace\n",
    "planar_laplace = pk.PlanarLaplace(epsilon=0.016)\n",
    "location_data_pl = planar_laplace.execute(location_data)\n",
    "\n",
    "# initialize and apply Clustering Geo-Ind\n",
    "import numpy as np\n",
    "clustering = pk.ClusteringGeoInd(r=np.log(4)/epsilon, epsilon=0.016)\n",
    "location_data_cgi = clustering.execute(location_data)\n",
    "\n",
    "# initialize and apply Adaptive Geo-Ind\n",
    "adaptive = pk.AdaptiveGeoInd(epsilon=0.016, ws=2)\n",
    "location_data_agi = adaptive.execute(location_data)\n",
    "\n",
    "# initialize and apply Velocity-Aware Geo-Ind\n",
    "va_gi = pk.VAGI(epsilon=0.016, m=10)\n",
    "location_data_vagi = adaptive.execute(location_data)"
   ]
  },
  {
   "cell_type": "markdown",
   "id": "3e70520d",
   "metadata": {
    "pycharm": {
     "name": "#%% md\n"
    }
   },
   "source": [
    "## Applying an Adversary Attack\n"
   ]
  },
  {
   "cell_type": "code",
   "execution_count": null,
   "id": "91ace8a4",
   "metadata": {
    "pycharm": {
     "name": "#%%\n"
    }
   },
   "outputs": [],
   "source": [
    "# initialize and apply OptimalHW\n",
    "optHW = pk.OptimalHW(epsilon=0.016)\n",
    "location_data_opthw = optHW.execute(location_data)\n",
    "\n",
    "# initialize and apply OmniHW\n",
    "optHW = pk.OmniHW(epsilon=0.016)\n",
    "location_data_omnihw = optHW.execute(location_data)"
   ]
  },
  {
   "cell_type": "markdown",
   "id": "e5f1e7d8",
   "metadata": {
    "pycharm": {
     "name": "#%% md\n"
    }
   },
   "source": [
    "## Mechanism analysis and Visualization of results"
   ]
  },
  {
   "cell_type": "code",
   "execution_count": null,
   "id": "879dfaf0",
   "metadata": {
    "pycharm": {
     "name": "#%%\n"
    }
   },
   "outputs": [],
   "source": [
    "quality_loss = pk.QualityLoss()\n",
    "location_data = quality_loss.execute(location_data)\n",
    "\n",
    "plot_utils.boxplot(labels=[ppm.PPM_ID], values=quality_loss.values, title=quality_loss.METRIC_ID, show=True)\n",
    "plot_utils.plot_errorbar(x=[ppm.PPM_ID], y=quality_loss.values, title=quality_loss.METRIC_ID, show=True)"
   ]
  },
  {
   "cell_type": "code",
   "execution_count": null,
   "id": "1d728862",
   "metadata": {
    "pycharm": {
     "name": "#%%\n"
    }
   },
   "outputs": [],
   "source": [
    "adv_error = pk.AdversaryError()\n",
    "location_data = adv_error.execute(location_data)\n",
    "\n",
    "plot_utils.boxplot(labels=[attack.ATTACK_ID], values=adv_error.values, title=adv_error.METRIC_ID, show=True)\n",
    "plot_utils.plot_errorbar(x=[attack.ATTACK_ID], y=adv_error.values, title=adv_error.METRIC_ID, show=True)"
   ]
  }
 ],
 "metadata": {
  "kernelspec": {
   "display_name": "Python 3 (ipykernel)",
   "language": "python",
   "name": "python3"
  },
  "language_info": {
   "codemirror_mode": {
    "name": "ipython",
    "version": 3
   },
   "file_extension": ".py",
   "mimetype": "text/x-python",
   "name": "python",
   "nbconvert_exporter": "python",
   "pygments_lexer": "ipython3",
   "version": "3.10.5"
  }
 },
 "nbformat": 4,
 "nbformat_minor": 5
}
