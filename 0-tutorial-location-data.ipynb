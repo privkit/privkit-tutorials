{
 "cells": [
  {
   "cell_type": "markdown",
   "id": "ab2a998a",
   "metadata": {
    "pycharm": {
     "name": "#%% md\n"
    }
   },
   "source": [
    "\n",
    "# Privkit Tutorial\n",
    "\n",
    "\n",
    "This notebook provides a tour of some of Privkit's features related to location data including how to:\n",
    "- load datasets\n",
    "- get dataset statistics\n",
    "- apply privacy-preserving mechanisms\n",
    "- apply adversary attacks\n",
    "- perform ppm and attack analysis through suitable metrics\n",
    "- visualize the obtained results\n"
   ]
  },
  {
   "cell_type": "code",
   "id": "fa9af277cee48916",
   "metadata": {
    "collapsed": false,
    "pycharm": {
     "name": "#%%\n"
    },
    "ExecuteTime": {
     "end_time": "2024-12-06T21:57:22.144715Z",
     "start_time": "2024-12-06T21:57:22.115364Z"
    }
   },
   "source": "import privkit as pk",
   "outputs": [],
   "execution_count": 2
  },
  {
   "cell_type": "markdown",
   "id": "08e47eb3",
   "metadata": {
    "pycharm": {
     "name": "#%% md\n"
    }
   },
   "source": [
    "## Loading Data\n",
    "\n",
    "Privkit provides access to the following mobility datasets: \n",
    "- cabspotting - mobility traces of taxi cabs in San Francisco, USA\n",
    "- geolife - mobility data collected in Beijing, China\n",
    "\n",
    "In the current tutorial, we will load data from the GeolifeDataset as follows."
   ]
  },
  {
   "metadata": {
    "ExecuteTime": {
     "end_time": "2024-12-06T21:57:25.246918Z",
     "start_time": "2024-12-06T21:57:25.236432Z"
    }
   },
   "cell_type": "code",
   "source": [
    "# contains multiple constant variables that result in a less verbose coding\n",
    "from privkit.utils import constants"
   ],
   "id": "6e8e25b4fffcaf9",
   "outputs": [],
   "execution_count": 3
  },
  {
   "cell_type": "code",
   "id": "16ae69d1",
   "metadata": {
    "pycharm": {
     "name": "#%%\n"
    },
    "ExecuteTime": {
     "end_time": "2024-12-06T21:58:01.729165Z",
     "start_time": "2024-12-06T21:57:26.789375Z"
    }
   },
   "source": [
    "# loading geolife dataset\n",
    "dataset = pk.datasets.GeolifeDataset()\n",
    "dataset.load_dataset()"
   ],
   "outputs": [
    {
     "name": "stdout",
     "output_type": "stream",
     "text": [
      "Loading the geolife dataset\n",
      "Dataset loaded from ./input/data/geolife.pkl\n"
     ]
    }
   ],
   "execution_count": 4
  },
  {
   "metadata": {
    "ExecuteTime": {
     "end_time": "2024-12-06T21:58:06.203970Z",
     "start_time": "2024-12-06T21:58:06.155818Z"
    }
   },
   "cell_type": "code",
   "source": [
    "location_data = dataset.data\n",
    "location_data.data = location_data.data[:100]  # To limit the number of records"
   ],
   "id": "183a7060fdcd2dba",
   "outputs": [],
   "execution_count": 5
  },
  {
   "metadata": {
    "ExecuteTime": {
     "end_time": "2024-12-06T21:58:13.836594Z",
     "start_time": "2024-12-06T21:58:13.190183Z"
    }
   },
   "cell_type": "code",
   "source": [
    "# prints data summary, specifying the number of users, trajectories, and other statistics\n",
    "location_data.print_data_summary()\n",
    "\n",
    "# prints statistics of data by user, specifying the number of trajectories, points, and other statistics per user\n",
    "location_data.print_statistics_by_user()"
   ],
   "id": "eb844a7fb0dcb416",
   "outputs": [
    {
     "name": "stdout",
     "output_type": "stream",
     "text": [
      "\n",
      "=======================================\n",
      "Location Data contains:\n",
      "#users: 1\n",
      "#trajectories: 1\n",
      "The total number of points is 100, with the smallest trajectory having 100 points and the biggest 100\n",
      "The average number of points per trajectory is 100.0\n",
      "The average of update rate is 4.96 s\n",
      "Spawning from 2008-10-23 02:53:04 till 2008-10-23 03:01:20\n",
      "Covering the bounding box [39.984303, 39.984708, 116.302094, 116.31845]\n",
      "=======================================\n",
      "\n",
      "Location Data contains 1 users:\n",
      "User 0 has 100 points in 1 trajectories (average=100.0) spawning from 2008-10-23 02:53:04 to 2008-10-23 03:01:20 covering the bounding box [39.984303, 39.984708, 116.302094, 116.31845]\n"
     ]
    }
   ],
   "execution_count": 6
  },
  {
   "cell_type": "markdown",
   "id": "1781745e",
   "metadata": {
    "pycharm": {
     "name": "#%% md\n"
    }
   },
   "source": [
    "## Applying a Privacy-Preserving Mechanism\n",
    "\n",
    "The following list contains some of the PPMs implemented as well as a quick explanation of each.\n",
    "- **Planar Laplace**: consists of adding 2-dimensional Laplacian noise centered at the exact user location. The Laplacian distribution depends on a privacy parameter epsilon defined as ε=l/r, which means that a privacy level l is guaranteed within a radius r.\n",
    "\n",
    "- **Adaptive Geo-Indistinguishability**: uses the Planar Laplace mechanism as baseline, but dynamically adapts the privacy parameter epsilon according to the correlation between the current and the past locations.\n",
    "\n",
    "- **Clustering Geo-Indistinguishability**: consists of creating obfuscation clusters to aggregate nearby locations into a single obfuscated location. This obfuscated location is produced by Planar Laplace.\n",
    "\n",
    "- **Velocity-Aware Geo-Indistinguishability**: uses the Planar Laplace mechanism as baseline, but dynamically adapts the privacy parameter epsilon according to the user velocities as well as the reporting speed."
   ]
  },
  {
   "cell_type": "code",
   "id": "f859ef50",
   "metadata": {
    "pycharm": {
     "name": "#%%\n"
    },
    "ExecuteTime": {
     "end_time": "2024-12-06T21:58:19.923029Z",
     "start_time": "2024-12-06T21:58:18.464317Z"
    }
   },
   "source": [
    "# initialize and apply Planar Laplace\n",
    "epsilon = 0.016\n",
    "planar_laplace = pk.PlanarLaplace(epsilon=epsilon)\n",
    "location_data_pl = planar_laplace.execute(location_data)\n",
    "\n",
    "# initialize and apply Clustering Geo-Ind\n",
    "import numpy as np\n",
    "clustering = pk.ClusteringGeoInd(r=np.log(4)/epsilon, epsilon=epsilon)\n",
    "location_data_cgi = clustering.execute(location_data)\n",
    "\n",
    "# initialize and apply Adaptive Geo-Ind\n",
    "adaptive = pk.AdaptiveGeoInd(epsilon=epsilon, ws=2)\n",
    "location_data_agi = adaptive.execute(location_data)\n",
    "\n",
    "# initialize and apply Velocity-Aware Geo-Ind\n",
    "va_gi = pk.VAGI(epsilon=epsilon, m=10)\n",
    "location_data_vagi = adaptive.execute(location_data)"
   ],
   "outputs": [],
   "execution_count": 7
  },
  {
   "cell_type": "markdown",
   "id": "3e70520d",
   "metadata": {
    "pycharm": {
     "name": "#%% md\n"
    }
   },
   "source": [
    "## Applying an Adversary Attack\n"
   ]
  },
  {
   "metadata": {},
   "cell_type": "markdown",
   "source": "Applying attacks to data obfuscated with VA-GI:",
   "id": "3c9b11f2304d873d"
  },
  {
   "cell_type": "code",
   "id": "91ace8a4",
   "metadata": {
    "pycharm": {
     "name": "#%%\n"
    },
    "ExecuteTime": {
     "end_time": "2024-12-06T21:58:23.340017Z",
     "start_time": "2024-12-06T21:58:23.181177Z"
    }
   },
   "source": [
    "# initialize and apply OptimalHW\n",
    "optHW = pk.OptimalHW(epsilon=epsilon)\n",
    "location_data_opthw = optHW.execute(location_data)\n",
    "\n",
    "# initialize and apply OmniHW\n",
    "omniHW = pk.OmniHW(epsilon=epsilon)\n",
    "location_data_omnihw = omniHW.execute(location_data)"
   ],
   "outputs": [
    {
     "name": "stdout",
     "output_type": "stream",
     "text": [
      "Creating a grid from locations with 250m squared cells.\n",
      "Computing the locationstamp and timestamp for an interval of 60s\n",
      "Dividing data into train and test data with a 0.2 ratio for testing.\n"
     ]
    }
   ],
   "execution_count": 8
  },
  {
   "cell_type": "markdown",
   "id": "e5f1e7d8",
   "metadata": {
    "pycharm": {
     "name": "#%% md\n"
    }
   },
   "source": "## Mechanism analysis and Visualization of results"
  },
  {
   "metadata": {},
   "cell_type": "markdown",
   "source": "Perform analysis to VA-GI (PPM) and omniHW (attack):",
   "id": "e06ea127ac61d729"
  },
  {
   "metadata": {
    "ExecuteTime": {
     "end_time": "2024-12-06T21:58:27.587950Z",
     "start_time": "2024-12-06T21:58:27.570870Z"
    }
   },
   "cell_type": "code",
   "source": "from privkit.utils import plot_utils",
   "id": "39e692c148e47ab5",
   "outputs": [],
   "execution_count": 9
  },
  {
   "metadata": {
    "ExecuteTime": {
     "end_time": "2024-12-06T21:58:29.412643Z",
     "start_time": "2024-12-06T21:58:29.407055Z"
    }
   },
   "cell_type": "code",
   "source": [
    "ppm = va_gi\n",
    "attack = omniHW"
   ],
   "id": "852f9d9992da08b2",
   "outputs": [],
   "execution_count": 10
  },
  {
   "metadata": {
    "pycharm": {
     "name": "#%%\n"
    },
    "ExecuteTime": {
     "end_time": "2024-12-06T21:58:33.526753Z",
     "start_time": "2024-12-06T21:58:31.847143Z"
    }
   },
   "cell_type": "code",
   "source": [
    "quality_loss = pk.QualityLoss()\n",
    "location_data = quality_loss.execute(location_data)\n",
    "\n",
    "plot_utils.boxplot(labels=[ppm.PPM_ID], values=quality_loss.values, title=quality_loss.METRIC_ID, show=True)\n",
    "plot_utils.plot_errorbar(x=[ppm.PPM_ID], y=quality_loss.values, title=quality_loss.METRIC_ID, show=True)"
   ],
   "id": "879dfaf0",
   "outputs": [
    {
     "name": "stdout",
     "output_type": "stream",
     "text": [
      "Statistics of Quality Loss:\n",
      "\n",
      "Median: 996.9771887627346\n",
      "\n",
      "Mean: 1200.081493662923\n",
      "\n"
     ]
    },
    {
     "data": {
      "text/plain": [
       "<Figure size 640x480 with 1 Axes>"
      ],
      "image/png": "[encoded data removed]"
     },
     "metadata": {},
     "output_type": "display_data"
    },
    {
     "data": {
      "text/plain": [
       "<Figure size 640x480 with 1 Axes>"
      ],
      "image/png": "[encoded data removed]"
     },
     "metadata": {},
     "output_type": "display_data"
    }
   ],
   "execution_count": 11
  },
  {
   "metadata": {
    "pycharm": {
     "name": "#%%\n"
    },
    "ExecuteTime": {
     "end_time": "2024-12-06T21:58:38.956443Z",
     "start_time": "2024-12-06T21:58:38.587881Z"
    }
   },
   "cell_type": "code",
   "source": [
    "adv_error = pk.AdversaryError()\n",
    "location_data = adv_error.execute(location_data)\n",
    "\n",
    "plot_utils.boxplot(labels=[attack.ATTACK_ID], values=adv_error.values, title=adv_error.METRIC_ID, show=True)\n",
    "plot_utils.plot_errorbar(x=[attack.ATTACK_ID], y=adv_error.values, title=adv_error.METRIC_ID, show=True)"
   ],
   "id": "1d728862",
   "outputs": [
    {
     "name": "stdout",
     "output_type": "stream",
     "text": [
      "Statistics of Adversary Error:\n",
      "\n",
      "Median: 496.14556855439093\n",
      "\n",
      "Mean: 568.0545445030544\n",
      "\n"
     ]
    },
    {
     "data": {
      "text/plain": [
       "<Figure size 640x480 with 1 Axes>"
      ],
      "image/png": "[encoded data removed]"
     },
     "metadata": {},
     "output_type": "display_data"
    },
    {
     "data": {
      "text/plain": [
       "<Figure size 640x480 with 1 Axes>"
      ],
      "image/png": "[encoded data removed]"
     },
     "metadata": {},
     "output_type": "display_data"
    }
   ],
   "execution_count": 12
  }
 ],
 "metadata": {
  "kernelspec": {
   "display_name": "Python 3 (ipykernel)",
   "language": "python",
   "name": "python3"
  },
  "language_info": {
   "codemirror_mode": {
    "name": "ipython",
    "version": 3
   },
   "file_extension": ".py",
   "mimetype": "text/x-python",
   "name": "python",
   "nbconvert_exporter": "python",
   "pygments_lexer": "ipython3",
   "version": "3.10.5"
  }
 },
 "nbformat": 4,
 "nbformat_minor": 5
}
