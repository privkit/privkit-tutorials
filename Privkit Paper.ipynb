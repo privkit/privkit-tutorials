{
 "cells": [
  {
   "cell_type": "markdown",
   "metadata": {
    "collapsed": false,
    "pycharm": {
     "name": "#%% md\n"
    }
   },
   "source": [
    "## Privkit: A Toolkit of Privacy-Preserving Mechanisms for Heterogeneous Data Types"
   ]
  },
  {
   "cell_type": "markdown",
   "metadata": {},
   "source": [
    "This Jupyter Notebook presents the use cases demonstrated in the paper \"Privkit: A Toolkit of Privacy-Preserving Mechanisms for Heterogeneous Data Types\".\n",
    "\n",
    "## Abstract\n",
    "\n",
    "With the massive data collection from different devices, spanning from mobile devices to all sorts of IoT devices, protecting the privacy of users is a fundamental concern. In order to prevent unwanted disclosures, several Privacy-Preserving Mechanisms (PPMs) have been proposed. Nevertheless, due to the lack of a standardized and universal privacy definition, configuring and evaluating PPMs is quite challenging, requiring knowledge that the average user does not have. In this paper, we propose a privacy toolkit - Privkit - to systematize this process and facilitate automated configuration of PPMs. Privkit enables the assessment of privacy-preserving mechanisms with different configurations, while allowing the quantification of the achieved privacy and utility level of various types of data. Privkit is open source and can be extended with new data types, corresponding PPMs, as well as privacy and utility assessment metrics and privacy attacks over such data. This toolkit is available through a Python Package with several state-of-the-art PPMs already implemented, and also accessible through a Web application. Privkit constitutes a unified toolkit that makes the dissemination of new privacy-preserving methods easier and also facilitates reproducibility of research results, through a repository of Jupyter Notebooks that enable reproduction of research results."
   ]
  },
  {
   "metadata": {},
   "cell_type": "markdown",
   "source": [
    "## Citation\n",
    "\n",
    "Please consider to cite our publication in your scientific work:\n",
    "\n",
    "```\n",
    "@inproceedings{10.1145/3626232.3653284,\n",
    "    author = {Cunha, Mariana and Duarte, Guilherme and Andrade, Ricardo and Mendes, Ricardo and Vilela, Jo\\~{a}o P.},\n",
    "    title = {Privkit: A Toolkit of Privacy-Preserving Mechanisms for Heterogeneous Data Types},\n",
    "    year = {2024},\n",
    "    isbn = {9798400704215},\n",
    "    publisher = {Association for Computing Machinery},\n",
    "    address = {New York, NY, USA},\n",
    "    url = {https://doi.org/10.1145/3626232.3653284},\n",
    "    doi = {10.1145/3626232.3653284},\n",
    "    booktitle = {Proceedings of the Fourteenth ACM Conference on Data and Application Security and Privacy},\n",
    "    pages = {319–324},\n",
    "    numpages = {6},\n",
    "    location = {<conf-loc>, <city>Porto</city>, <country>Portugal</country>, </conf-loc>},\n",
    "    series = {CODASPY '24}\n",
    "}\n",
    "```"
   ]
  },
  {
   "cell_type": "markdown",
   "metadata": {},
   "source": [
    "----------"
   ]
  },
  {
   "cell_type": "markdown",
   "metadata": {},
   "source": [
    "## Import Privkit"
   ]
  },
  {
   "cell_type": "code",
   "metadata": {
    "collapsed": true,
    "pycharm": {
     "name": "#%%\n"
    },
    "ExecuteTime": {
     "end_time": "2024-12-06T21:02:26.080905Z",
     "start_time": "2024-12-06T21:02:26.069424Z"
    }
   },
   "source": [
    "import privkit as pk"
   ],
   "outputs": [],
   "execution_count": 3
  },
  {
   "cell_type": "markdown",
   "metadata": {
    "collapsed": false,
    "pycharm": {
     "name": "#%% md\n"
    }
   },
   "source": [
    "#### Use Case 1: Location Data\n",
    "\n",
    "Example of loading data from an array:"
   ]
  },
  {
   "cell_type": "code",
   "metadata": {
    "collapsed": false,
    "pycharm": {
     "name": "#%%\n"
    },
    "ExecuteTime": {
     "end_time": "2024-12-06T21:02:29.634482Z",
     "start_time": "2024-12-06T21:02:29.486604Z"
    }
   },
   "source": [
    "data_to_load = [['2008-10-23 02:53:04', 39.984702, 116.318417],\n",
    "                ['2008-10-23 02:53:10', 39.984683, 116.31845],\n",
    "                ['2008-10-23 02:53:15', 39.984686, 116.318417]]\n",
    "\n",
    "location_data = pk.LocationData()\n",
    "location_data.load_data(data_to_load, datetime=0, latitude=1, longitude=2)\n",
    "display(location_data.data)"
   ],
   "outputs": [
    {
     "data": {
      "text/plain": [
       "             datetime        lat         lon  uid  tid  original_lat  \\\n",
       "0 2008-10-23 02:53:04  39.984702  116.318417    1    1     39.984702   \n",
       "1 2008-10-23 02:53:10  39.984683  116.318450    1    1     39.984683   \n",
       "2 2008-10-23 02:53:15  39.984686  116.318417    1    1     39.984686   \n",
       "\n",
       "   original_lon  \n",
       "0    116.318417  \n",
       "1    116.318450  \n",
       "2    116.318417  "
      ],
      "text/html": [
       "<div>\n",
       "<style scoped>\n",
       "    .dataframe tbody tr th:only-of-type {\n",
       "        vertical-align: middle;\n",
       "    }\n",
       "\n",
       "    .dataframe tbody tr th {\n",
       "        vertical-align: top;\n",
       "    }\n",
       "\n",
       "    .dataframe thead th {\n",
       "        text-align: right;\n",
       "    }\n",
       "</style>\n",
       "<table border=\"1\" class=\"dataframe\">\n",
       "  <thead>\n",
       "    <tr style=\"text-align: right;\">\n",
       "      <th></th>\n",
       "      <th>datetime</th>\n",
       "      <th>lat</th>\n",
       "      <th>lon</th>\n",
       "      <th>uid</th>\n",
       "      <th>tid</th>\n",
       "      <th>original_lat</th>\n",
       "      <th>original_lon</th>\n",
       "    </tr>\n",
       "  </thead>\n",
       "  <tbody>\n",
       "    <tr>\n",
       "      <th>0</th>\n",
       "      <td>2008-10-23 02:53:04</td>\n",
       "      <td>39.984702</td>\n",
       "      <td>116.318417</td>\n",
       "      <td>1</td>\n",
       "      <td>1</td>\n",
       "      <td>39.984702</td>\n",
       "      <td>116.318417</td>\n",
       "    </tr>\n",
       "    <tr>\n",
       "      <th>1</th>\n",
       "      <td>2008-10-23 02:53:10</td>\n",
       "      <td>39.984683</td>\n",
       "      <td>116.318450</td>\n",
       "      <td>1</td>\n",
       "      <td>1</td>\n",
       "      <td>39.984683</td>\n",
       "      <td>116.318450</td>\n",
       "    </tr>\n",
       "    <tr>\n",
       "      <th>2</th>\n",
       "      <td>2008-10-23 02:53:15</td>\n",
       "      <td>39.984686</td>\n",
       "      <td>116.318417</td>\n",
       "      <td>1</td>\n",
       "      <td>1</td>\n",
       "      <td>39.984686</td>\n",
       "      <td>116.318417</td>\n",
       "    </tr>\n",
       "  </tbody>\n",
       "</table>\n",
       "</div>"
      ]
     },
     "metadata": {},
     "output_type": "display_data"
    }
   ],
   "execution_count": 4
  },
  {
   "metadata": {},
   "cell_type": "markdown",
   "source": "Example of loading the Geolife dataset, available in Privkit:"
  },
  {
   "cell_type": "code",
   "metadata": {
    "collapsed": false,
    "pycharm": {
     "name": "#%%\n"
    },
    "ExecuteTime": {
     "end_time": "2024-12-06T21:03:13.088727Z",
     "start_time": "2024-12-06T21:02:36.112754Z"
    }
   },
   "source": [
    "geolife_dataset = pk.datasets.GeolifeDataset()\n",
    "geolife_dataset.load_dataset()"
   ],
   "outputs": [
    {
     "name": "stdout",
     "output_type": "stream",
     "text": [
      "Loading the geolife dataset\n",
      "Dataset loaded from ./input/data/geolife.pkl\n"
     ]
    }
   ],
   "execution_count": 5
  },
  {
   "metadata": {},
   "cell_type": "markdown",
   "source": "Selecting the first 50 elements of Geolife dataset and then apply PPMs (Planar Laplace and Clustergin Geo-Ind) and attacks (Map-Matching and optimalHW):"
  },
  {
   "metadata": {
    "ExecuteTime": {
     "end_time": "2024-12-06T21:03:20.204976Z",
     "start_time": "2024-12-06T21:03:20.194947Z"
    }
   },
   "cell_type": "code",
   "source": [
    "location_data = geolife_dataset.data\n",
    "location_data.data = location_data.data[:50]"
   ],
   "outputs": [],
   "execution_count": 6
  },
  {
   "metadata": {},
   "cell_type": "markdown",
   "source": "Applying PPMs (Planar Laplace and Clustering Geo-Ind):"
  },
  {
   "cell_type": "code",
   "metadata": {
    "collapsed": false,
    "pycharm": {
     "name": "#%%\n"
    },
    "ExecuteTime": {
     "end_time": "2024-12-06T21:03:23.382224Z",
     "start_time": "2024-12-06T21:03:23.361169Z"
    }
   },
   "source": [
    "planar_laplace = pk.ppms.PlanarLaplace(epsilon=0.016)\n",
    "obfuscated_data_pl = planar_laplace.execute(location_data)\n",
    "obfuscated_data_pl.data = location_data.data.copy()"
   ],
   "outputs": [],
   "execution_count": 7
  },
  {
   "metadata": {
    "ExecuteTime": {
     "end_time": "2024-12-06T21:03:26.022715Z",
     "start_time": "2024-12-06T21:03:25.979636Z"
    }
   },
   "cell_type": "code",
   "source": [
    "clustering = pk.ppms.ClusteringGeoInd(epsilon=0.016, r=100)\n",
    "obfuscated_data_cgi = clustering.execute(location_data)\n",
    "obfuscated_data_cgi.data = location_data.data.copy()"
   ],
   "outputs": [],
   "execution_count": 8
  },
  {
   "metadata": {},
   "cell_type": "markdown",
   "source": "Example of applying MM to data obfuscated with Planar Laplace:"
  },
  {
   "metadata": {
    "ExecuteTime": {
     "end_time": "2024-12-06T21:03:29.352826Z",
     "start_time": "2024-12-06T21:03:29.346753Z"
    }
   },
   "cell_type": "code",
   "source": [
    "#import osmnx as ox\n",
    "\n",
    "#G = ox.graph_from_point((location_data.data['lat'].mean(), location_data.data['lon'].mean()), dist=2500, retain_all=False, truncate_by_edge=True)\n",
    "\n",
    "#map_matching = pk.attacks.MapMatching(G=road_network)\n",
    "#map_matching.execute(obfuscated_data_pl)"
   ],
   "outputs": [],
   "execution_count": 9
  },
  {
   "metadata": {},
   "cell_type": "markdown",
   "source": "Example of applying the optimal attack to data obfuscated with Planar Laplace and Clustering Geo-ind, with corresponding quality loss and adversary error metrics:"
  },
  {
   "cell_type": "code",
   "metadata": {
    "collapsed": false,
    "pycharm": {
     "name": "#%%\n"
    },
    "ExecuteTime": {
     "end_time": "2024-12-06T21:04:05.059398Z",
     "start_time": "2024-12-06T21:04:04.974148Z"
    }
   },
   "source": [
    "results = {\n",
    "    planar_laplace.PPM_ID: obfuscated_data_pl, \n",
    "    clustering.PPM_ID: obfuscated_data_cgi\n",
    "}\n",
    "\n",
    "for ppm, data in results.items():    \n",
    "    print(f\"Applying optHW for {ppm}:\")\n",
    "    \n",
    "    optHW = pk.OptimalHW(epsilon=0.016)\n",
    "    location_data_opthw = optHW.execute(data)\n",
    "    \n",
    "    adversary_error = pk.metrics.AdversaryError()\n",
    "    adversary_error.execute(data)\n",
    "\n",
    "    quality_loss = pk.metrics.QualityLoss()\n",
    "    quality_loss.execute(data)\n",
    "    print(\"--------------------------\")\n",
    "    "
   ],
   "outputs": [
    {
     "name": "stdout",
     "output_type": "stream",
     "text": [
      "Applying optHW for planar_laplace:\n",
      "Creating a grid from locations with 250m squared cells.\n",
      "Computing the locationstamp and timestamp for an interval of 60s\n",
      "Dividing data into train and test data with a 0.2 ratio for testing.\n",
      "Statistics of Adversary Error:\n",
      "\n",
      "Median: 57.3041659374729\n",
      "\n",
      "Mean: 60.18707809250688\n",
      "\n",
      "Statistics of Quality Loss:\n",
      "\n",
      "Median: 45.731155809297775\n",
      "\n",
      "Mean: 52.78825942394996\n",
      "\n",
      "--------------------------\n",
      "Applying optHW for clustering_geo_ind:\n",
      "Statistics of Adversary Error:\n",
      "\n",
      "Median: 57.3041659374729\n",
      "\n",
      "Mean: 60.18707809250688\n",
      "\n",
      "Statistics of Quality Loss:\n",
      "\n",
      "Median: 45.731155809297775\n",
      "\n",
      "Mean: 52.78825942394996\n",
      "\n",
      "--------------------------\n"
     ]
    }
   ],
   "execution_count": 10
  },
  {
   "metadata": {},
   "cell_type": "markdown",
   "source": "**Results**"
  },
  {
   "metadata": {
    "ExecuteTime": {
     "end_time": "2024-12-06T21:04:16.706680Z",
     "start_time": "2024-12-06T21:04:16.694315Z"
    }
   },
   "cell_type": "code",
   "source": "import matplotlib.pyplot as plt",
   "outputs": [],
   "execution_count": 11
  },
  {
   "cell_type": "code",
   "metadata": {
    "collapsed": false,
    "pycharm": {
     "name": "#%%\n"
    },
    "ExecuteTime": {
     "end_time": "2024-12-06T21:04:48.713244Z",
     "start_time": "2024-12-06T21:04:48.308784Z"
    }
   },
   "source": [
    "fig, ax = plt.subplots()\n",
    "ax.boxplot([obfuscated_data_pl.data[quality_loss.METRIC_ID], obfuscated_data_cgi.data[quality_loss.METRIC_ID]])\n",
    "ax.set_xticklabels([planar_laplace.PPM_NAME, clustering.PPM_NAME])\n",
    "\n",
    "plt.show()"
   ],
   "outputs": [
    {
     "data": {
      "text/plain": [
       "<Figure size 640x480 with 1 Axes>"
      ],
      "image/png": "[encoded data removed]"
     },
     "metadata": {},
     "output_type": "display_data"
    }
   ],
   "execution_count": 12
  },
  {
   "metadata": {
    "ExecuteTime": {
     "end_time": "2024-12-06T21:04:56.356258Z",
     "start_time": "2024-12-06T21:04:56.086408Z"
    }
   },
   "cell_type": "code",
   "source": [
    "fig, ax = plt.subplots()\n",
    "ax.boxplot([obfuscated_data_pl.data[adversary_error.METRIC_ID], obfuscated_data_cgi.data[adversary_error.METRIC_ID]])\n",
    "ax.set_xticklabels([planar_laplace.PPM_NAME, clustering.PPM_NAME])\n",
    "\n",
    "plt.show()"
   ],
   "outputs": [
    {
     "data": {
      "text/plain": [
       "<Figure size 640x480 with 1 Axes>"
      ],
      "image/png": "[encoded data removed]"
     },
     "metadata": {},
     "output_type": "display_data"
    }
   ],
   "execution_count": 13
  },
  {
   "cell_type": "markdown",
   "metadata": {
    "collapsed": false,
    "pycharm": {
     "name": "#%% md\n"
    }
   },
   "source": [
    "#### Use Case 2: Facial Data\n",
    "\n",
    "To execute the facial data use case, you should first have a .ply file and then change the path in `data_to_load`."
   ]
  },
  {
   "cell_type": "code",
   "metadata": {
    "collapsed": false,
    "pycharm": {
     "name": "#%%\n"
    },
    "ExecuteTime": {
     "end_time": "2024-12-06T21:05:04.247275Z",
     "start_time": "2024-12-06T21:05:04.211706Z"
    }
   },
   "source": [
    "data_to_load = 'sample_face.ply'  # TODO you should add a .ply file here\n",
    "\n",
    "facial_data = pk.FacialData()\n",
    "facial_data.load_data(data_to_load)"
   ],
   "outputs": [],
   "execution_count": 14
  },
  {
   "cell_type": "code",
   "metadata": {
    "collapsed": false,
    "pycharm": {
     "name": "#%%\n"
    },
    "ExecuteTime": {
     "end_time": "2024-12-06T21:05:05.543516Z",
     "start_time": "2024-12-06T21:05:05.539080Z"
    }
   },
   "source": [
    "point_mesh_point = pk.ppms.PointMeshPoint(alpha=40, n=200000)\n",
    "obfuscated_data_PMP = point_mesh_point.execute(facial_data)"
   ],
   "outputs": [],
   "execution_count": 15
  }
 ],
 "metadata": {
  "kernelspec": {
   "display_name": "Python 3",
   "language": "python",
   "name": "python3"
  },
  "language_info": {
   "codemirror_mode": {
    "name": "ipython",
    "version": 2
   },
   "file_extension": ".py",
   "mimetype": "text/x-python",
   "name": "python",
   "nbconvert_exporter": "python",
   "pygments_lexer": "ipython2",
   "version": "2.7.6"
  }
 },
 "nbformat": 4,
 "nbformat_minor": 0
}
