{
 "cells": [
  {
   "cell_type": "markdown",
   "metadata": {
    "collapsed": false,
    "pycharm": {
     "name": "#%% md\n"
    }
   },
   "source": [
    "## Privkit: A Toolkit of Privacy-Preserving Mechanisms for Heterogeneous Data Types"
   ]
  },
  {
   "cell_type": "markdown",
   "metadata": {},
   "source": [
    "This Jupyter Notebook presents the use cases demonstrated in the paper \"Privkit: A Toolkit of Privacy-Preserving Mechanisms for Heterogeneous Data Types\".\n",
    "\n",
    "## Abstract\n",
    "\n",
    "With the massive data collection from different devices, spanning from mobile devices to all sorts of IoT devices, protecting the privacy of users is a fundamental concern. In order to prevent unwanted disclosures, several Privacy-Preserving Mechanisms (PPMs) have been proposed. Nevertheless, due to the lack of a standardized and universal privacy definition, configuring and evaluating PPMs is quite challenging, requiring knowledge that the average user does not have. In this paper, we propose a privacy toolkit - Privkit - to systematize this process and facilitate automated configuration of PPMs. Privkit enables the assessment of privacy-preserving mechanisms with different configurations, while allowing the quantification of the achieved privacy and utility level of various types of data. Privkit is open source and can be extended with new data types, corresponding PPMs, as well as privacy and utility assessment metrics and privacy attacks over such data. This toolkit is available through a Python Package with several state-of-the-art PPMs already implemented, and also accessible through a Web application. Privkit constitutes a unified toolkit that makes the dissemination of new privacy-preserving methods easier and also facilitates reproducibility of research results, through a repository of Jupyter Notebooks that enable reproduction of research results."
   ]
  },
  {
   "cell_type": "markdown",
   "metadata": {},
   "source": [
    "## Citation\n",
    "\n",
    "Please consider to cite our publication in your scientific work:"
   ]
  },
  {
   "cell_type": "code",
   "execution_count": null,
   "metadata": {
    "vscode": {
     "languageId": "bibtex"
    }
   },
   "outputs": [],
   "source": [
    "@inproceedings{10.1145/3626232.3653284,\n",
    "    author = {Cunha, Mariana and Duarte, Guilherme and Andrade, Ricardo and Mendes, Ricardo and Vilela, Jo\\~{a}o P.},\n",
    "    title = {Privkit: A Toolkit of Privacy-Preserving Mechanisms for Heterogeneous Data Types},\n",
    "    year = {2024},\n",
    "    isbn = {9798400704215},\n",
    "    publisher = {Association for Computing Machinery},\n",
    "    address = {New York, NY, USA},\n",
    "    url = {https://doi.org/10.1145/3626232.3653284},\n",
    "    doi = {10.1145/3626232.3653284},\n",
    "    booktitle = {Proceedings of the Fourteenth ACM Conference on Data and Application Security and Privacy},\n",
    "    pages = {319–324},\n",
    "    numpages = {6},\n",
    "    location = {<conf-loc>, <city>Porto</city>, <country>Portugal</country>, </conf-loc>},\n",
    "    series = {CODASPY '24}\n",
    "}"
   ]
  },
  {
   "cell_type": "markdown",
   "metadata": {},
   "source": [
    "----------"
   ]
  },
  {
   "cell_type": "markdown",
   "metadata": {},
   "source": [
    "## Import Privkit"
   ]
  },
  {
   "cell_type": "code",
   "execution_count": 19,
   "metadata": {
    "collapsed": true,
    "pycharm": {
     "name": "#%%\n"
    }
   },
   "outputs": [],
   "source": [
    "import privkit as pk"
   ]
  },
  {
   "cell_type": "markdown",
   "metadata": {
    "collapsed": false,
    "pycharm": {
     "name": "#%% md\n"
    }
   },
   "source": [
    "#### Use Case 1: Location Data"
   ]
  },
  {
   "cell_type": "code",
   "execution_count": 20,
   "metadata": {
    "collapsed": false,
    "pycharm": {
     "name": "#%%\n"
    }
   },
   "outputs": [],
   "source": [
    "data_to_load = [['2008-10-23 02:53:04', 39.984702, 116.318417],\n",
    "                ['2008-10-23 02:53:10', 39.984683, 116.31845],\n",
    "                ['2008-10-23 02:53:15', 39.984686, 116.318417]]\n",
    "\n",
    "location_data = pk.LocationData()\n",
    "location_data.load_data(data_to_load, datetime=0, latitude=1, longitude=2)"
   ]
  },
  {
   "cell_type": "code",
   "execution_count": 21,
   "metadata": {
    "collapsed": false,
    "pycharm": {
     "name": "#%%\n"
    }
   },
   "outputs": [],
   "source": [
    "geolife_dataset = pk.datasets.GeolifeDataset()\n",
    "geolife_dataset.load_dataset()\n",
    "\n",
    "location_data = geolife_dataset.data"
   ]
  },
  {
   "cell_type": "code",
   "execution_count": null,
   "metadata": {
    "collapsed": false,
    "pycharm": {
     "name": "#%%\n"
    }
   },
   "outputs": [],
   "source": [
    "planar_laplace = pk.ppms.PlanarLaplace(epsilon=0.016)\n",
    "obfuscated_data_pl = planar_laplace.execute(location_data)\n",
    "\n",
    "clustering = pk.ppms.ClusteringGeoInd(epsilon=0.016, r=100)\n",
    "obfuscated_data_cgi = clustering.execute(location_data)"
   ]
  },
  {
   "cell_type": "code",
   "execution_count": null,
   "metadata": {
    "collapsed": false,
    "pycharm": {
     "name": "#%%\n"
    }
   },
   "outputs": [],
   "source": [
    "import osmnx as ox\n",
    "\n",
    "road_network = ox.graph_from_point((location_data.data['lat'].mean(), location_data.data['lon'].mean()), dist=500, retain_all=False, truncate_by_edge=True)"
   ]
  },
  {
   "cell_type": "code",
   "execution_count": null,
   "metadata": {
    "collapsed": false,
    "pycharm": {
     "name": "#%%\n"
    }
   },
   "outputs": [],
   "source": [
    "map_matching = pk.attacks.MapMatching(G=road_network)\n",
    "adversary_data = map_matching.execute(location_data)\n",
    "\n",
    "adversary_error = pk.metrics.AdversaryError()\n",
    "adversary_error.execute(adversary_data)"
   ]
  },
  {
   "cell_type": "markdown",
   "metadata": {
    "collapsed": false,
    "pycharm": {
     "name": "#%% md\n"
    }
   },
   "source": [
    "#### Use Case 2: Facial Data"
   ]
  },
  {
   "cell_type": "code",
   "execution_count": null,
   "metadata": {
    "collapsed": false,
    "pycharm": {
     "name": "#%%\n"
    }
   },
   "outputs": [],
   "source": [
    "data_to_load = 'sample_face.ply'\n",
    "\n",
    "facial_data = pk.FacialData()\n",
    "facial_data.load_data(data_to_load)"
   ]
  },
  {
   "cell_type": "code",
   "execution_count": null,
   "metadata": {
    "collapsed": false,
    "pycharm": {
     "name": "#%%\n"
    }
   },
   "outputs": [],
   "source": [
    "point_mesh_point = pk.ppms.PointMeshPoint(alpha=40, n=200000)\n",
    "obfuscated_data_PMP = point_mesh_point.execute(facial_data)"
   ]
  }
 ],
 "metadata": {
  "kernelspec": {
   "display_name": "Python 3",
   "language": "python",
   "name": "python3"
  },
  "language_info": {
   "codemirror_mode": {
    "name": "ipython",
    "version": 2
   },
   "file_extension": ".py",
   "mimetype": "text/x-python",
   "name": "python",
   "nbconvert_exporter": "python",
   "pygments_lexer": "ipython2",
   "version": "2.7.6"
  }
 },
 "nbformat": 4,
 "nbformat_minor": 0
}
